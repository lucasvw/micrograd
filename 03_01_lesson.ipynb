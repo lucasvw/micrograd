{
 "cells": [
  {
   "cell_type": "code",
   "execution_count": 1,
   "id": "8b183c7e",
   "metadata": {},
   "outputs": [
    {
     "name": "stderr",
     "output_type": "stream",
     "text": [
      "/Users/lucasvanwalstijn/miniconda3/envs/fastai/lib/python3.8/site-packages/tqdm/auto.py:22: TqdmWarning: IProgress not found. Please update jupyter and ipywidgets. See https://ipywidgets.readthedocs.io/en/stable/user_install.html\n",
      "  from .autonotebook import tqdm as notebook_tqdm\n"
     ]
    }
   ],
   "source": [
    "import torch\n",
    "import numpy as np\n",
    "import torch.nn.functional as F"
   ]
  },
  {
   "cell_type": "code",
   "execution_count": 2,
   "id": "da901f8d",
   "metadata": {},
   "outputs": [],
   "source": [
    "with open('./names.txt') as file:\n",
    "    names = file.read().splitlines()"
   ]
  },
  {
   "cell_type": "code",
   "execution_count": 3,
   "id": "91418b96",
   "metadata": {},
   "outputs": [
    {
     "data": {
      "text/plain": [
       "['emma', 'olivia', 'ava']"
      ]
     },
     "execution_count": 3,
     "metadata": {},
     "output_type": "execute_result"
    }
   ],
   "source": [
    "names[:3]"
   ]
  },
  {
   "cell_type": "markdown",
   "id": "6d1aede1",
   "metadata": {},
   "source": [
    "### Let's try to get this generic block_size thing going:"
   ]
  },
  {
   "cell_type": "code",
   "execution_count": 4,
   "id": "8bd17daa",
   "metadata": {},
   "outputs": [
    {
     "name": "stdout",
     "output_type": "stream",
     "text": [
      "################\n",
      "emma\n",
      ".......... --> e\n",
      ".........e --> m\n",
      "........em --> m\n",
      ".......emm --> a\n",
      "......emma --> .\n",
      "################\n",
      "olivia\n",
      ".......... --> o\n",
      ".........o --> l\n",
      "........ol --> i\n",
      ".......oli --> v\n",
      "......oliv --> i\n",
      ".....olivi --> a\n",
      "....olivia --> .\n",
      "################\n",
      "ava\n",
      ".......... --> a\n",
      ".........a --> v\n",
      "........av --> a\n",
      ".......ava --> .\n"
     ]
    }
   ],
   "source": [
    "block_size = 10\n",
    "pointer = '-->'\n",
    "\n",
    "for name in names[:3]:\n",
    "    print('#' * (block_size + len(pointer) + 3))\n",
    "    print(name)\n",
    "    padded_name = '.' * block_size + name + '.'\n",
    "    for i in range(len(name)+1):\n",
    "        print(padded_name[i:i+block_size], pointer, padded_name[block_size+i])"
   ]
  },
  {
   "cell_type": "markdown",
   "id": "9fd6c1b6",
   "metadata": {},
   "source": [
    "### After looking again at the video, Andrej does it with this `context` which is much cleaner"
   ]
  },
  {
   "cell_type": "code",
   "execution_count": 5,
   "id": "c3856511",
   "metadata": {},
   "outputs": [
    {
     "name": "stdout",
     "output_type": "stream",
     "text": [
      "################\n",
      "emma\n",
      ".......... --> e\n",
      ".........e --> m\n",
      "........em --> m\n",
      ".......emm --> a\n",
      "......emma --> .\n",
      "################\n",
      "olivia\n",
      ".......... --> o\n",
      ".........o --> l\n",
      "........ol --> i\n",
      ".......oli --> v\n",
      "......oliv --> i\n",
      ".....olivi --> a\n",
      "....olivia --> .\n",
      "################\n",
      "ava\n",
      ".......... --> a\n",
      ".........a --> v\n",
      "........av --> a\n",
      ".......ava --> .\n"
     ]
    }
   ],
   "source": [
    "block_size = 10\n",
    "pointer = '-->'\n",
    "\n",
    "for name in names[:3]:\n",
    "    print('#' * (block_size + len(pointer) + 3))\n",
    "    print(name)\n",
    "    context = '.' * block_size\n",
    "    for ch in name + '.':\n",
    "        print(context, pointer, ch)\n",
    "        context = context[1:] + ch"
   ]
  },
  {
   "cell_type": "code",
   "execution_count": 6,
   "id": "a40cc218",
   "metadata": {},
   "outputs": [],
   "source": [
    "letters = sorted(set(letter for name in names for letter in name))"
   ]
  },
  {
   "cell_type": "code",
   "execution_count": 7,
   "id": "afc7a4ae",
   "metadata": {},
   "outputs": [],
   "source": [
    "i_to_s = {i+1: s for i, s in enumerate(letters)}\n",
    "i_to_s[0] = '.'\n",
    "s_to_i = {s: i for i, s in i_to_s.items()}"
   ]
  },
  {
   "cell_type": "markdown",
   "id": "89eb8ea9",
   "metadata": {},
   "source": [
    "### Now, let's create the dataset"
   ]
  },
  {
   "cell_type": "code",
   "execution_count": 8,
   "id": "9af84a83",
   "metadata": {},
   "outputs": [],
   "source": [
    "BLOCK_SIZE = 3\n",
    "\n",
    "X = []\n",
    "Y = []\n",
    "\n",
    "for name in names[:5]:\n",
    "    context = '.' * BLOCK_SIZE\n",
    "    for ch in name + '.':\n",
    "        X.append([s_to_i[s] for s in context])\n",
    "        Y.append(s_to_i[ch])\n",
    "        context = context[1:] + ch\n",
    "        \n",
    "X = torch.tensor(X)\n",
    "Y = torch.tensor(Y)"
   ]
  },
  {
   "cell_type": "code",
   "execution_count": 9,
   "id": "ee6b830b",
   "metadata": {},
   "outputs": [
    {
     "data": {
      "text/plain": [
       "(torch.Size([32, 3]), torch.int64)"
      ]
     },
     "execution_count": 9,
     "metadata": {},
     "output_type": "execute_result"
    }
   ],
   "source": [
    "X.shape, X.dtype"
   ]
  },
  {
   "cell_type": "code",
   "execution_count": 10,
   "id": "199b8372",
   "metadata": {},
   "outputs": [
    {
     "data": {
      "text/plain": [
       "(torch.Size([32]), torch.int64)"
      ]
     },
     "execution_count": 10,
     "metadata": {},
     "output_type": "execute_result"
    }
   ],
   "source": [
    "Y.shape, Y.dtype"
   ]
  },
  {
   "cell_type": "markdown",
   "id": "a7e523db",
   "metadata": {},
   "source": [
    "## Now let's create the neural network step by step"
   ]
  },
  {
   "cell_type": "markdown",
   "id": "cf37da91",
   "metadata": {},
   "source": [
    "### First, create the C matrix (the embedding matrix)"
   ]
  },
  {
   "cell_type": "code",
   "execution_count": 18,
   "id": "cd444550",
   "metadata": {},
   "outputs": [],
   "source": [
    "EMBEDDING_DIMENSION = 2\n",
    "\n",
    "g = torch.Generator().manual_seed(42)\n",
    "\n",
    "C = torch.randn([27,EMBEDDING_DIMENSION], requires_grad=True, generator=g)"
   ]
  },
  {
   "cell_type": "code",
   "execution_count": 19,
   "id": "e73ef892",
   "metadata": {},
   "outputs": [
    {
     "data": {
      "text/plain": [
       "tensor([[ 1.9269,  1.4873],\n",
       "        [ 0.9007, -2.1055],\n",
       "        [ 0.6784, -1.2345],\n",
       "        [-0.0431, -1.6047],\n",
       "        [-0.7521,  1.6487],\n",
       "        [-0.3925, -1.4036],\n",
       "        [-0.7279, -0.5594],\n",
       "        [-0.7688,  0.7624],\n",
       "        [ 1.6423, -0.1596],\n",
       "        [-0.4974,  0.4396],\n",
       "        [-0.7581,  1.0783],\n",
       "        [ 0.8008,  1.6806],\n",
       "        [ 1.2791,  1.2964],\n",
       "        [ 0.6105,  1.3347],\n",
       "        [-0.2316,  0.0418],\n",
       "        [-0.2516,  0.8599],\n",
       "        [-1.3847, -0.8712],\n",
       "        [-0.2234,  1.7174],\n",
       "        [ 0.3189, -0.4245],\n",
       "        [-0.8140, -0.7360],\n",
       "        [-0.8371, -0.9224],\n",
       "        [ 1.8113,  0.1606],\n",
       "        [ 0.3672,  0.1754],\n",
       "        [-1.1845,  1.3835],\n",
       "        [-1.2024,  0.7078],\n",
       "        [-1.0759,  0.5357],\n",
       "        [ 1.1754,  0.5612]], requires_grad=True)"
      ]
     },
     "execution_count": 19,
     "metadata": {},
     "output_type": "execute_result"
    }
   ],
   "source": [
    "C"
   ]
  },
  {
   "cell_type": "code",
   "execution_count": 20,
   "id": "87990a36",
   "metadata": {},
   "outputs": [
    {
     "data": {
      "text/plain": [
       "tensor([0, 0, 0])"
      ]
     },
     "execution_count": 20,
     "metadata": {},
     "output_type": "execute_result"
    }
   ],
   "source": [
    "X[0]"
   ]
  },
  {
   "cell_type": "code",
   "execution_count": 21,
   "id": "7b06a56d",
   "metadata": {},
   "outputs": [
    {
     "data": {
      "text/plain": [
       "tensor([[1.9269, 1.4873],\n",
       "        [1.9269, 1.4873],\n",
       "        [1.9269, 1.4873]], grad_fn=<IndexBackward>)"
      ]
     },
     "execution_count": 21,
     "metadata": {},
     "output_type": "execute_result"
    }
   ],
   "source": [
    "C[X[0]]"
   ]
  },
  {
   "cell_type": "code",
   "execution_count": 22,
   "id": "f842795d",
   "metadata": {},
   "outputs": [
    {
     "data": {
      "text/plain": [
       "tensor([1.9269, 1.4873], grad_fn=<SqueezeBackward3>)"
      ]
     },
     "execution_count": 22,
     "metadata": {},
     "output_type": "execute_result"
    }
   ],
   "source": [
    "F.one_hot(torch.tensor(0), num_classes=27).float() @ C"
   ]
  },
  {
   "cell_type": "code",
   "execution_count": 23,
   "id": "373d7d55",
   "metadata": {},
   "outputs": [
    {
     "data": {
      "text/plain": [
       "tensor([0, 0, 5])"
      ]
     },
     "execution_count": 23,
     "metadata": {},
     "output_type": "execute_result"
    }
   ],
   "source": [
    "X[1]"
   ]
  },
  {
   "cell_type": "code",
   "execution_count": 24,
   "id": "e92cb0ca",
   "metadata": {},
   "outputs": [
    {
     "data": {
      "text/plain": [
       "tensor([[ 1.9269,  1.4873],\n",
       "        [ 1.9269,  1.4873],\n",
       "        [-0.3925, -1.4036]], grad_fn=<IndexBackward>)"
      ]
     },
     "execution_count": 24,
     "metadata": {},
     "output_type": "execute_result"
    }
   ],
   "source": [
    "C[X[1]]"
   ]
  },
  {
   "cell_type": "code",
   "execution_count": 25,
   "id": "d8c5f0d9",
   "metadata": {},
   "outputs": [
    {
     "data": {
      "text/plain": [
       "tensor([-0.3925, -1.4036], grad_fn=<SqueezeBackward3>)"
      ]
     },
     "execution_count": 25,
     "metadata": {},
     "output_type": "execute_result"
    }
   ],
   "source": [
    "F.one_hot(torch.tensor(5), num_classes=27).float() @ C"
   ]
  },
  {
   "cell_type": "code",
   "execution_count": 26,
   "id": "918be838",
   "metadata": {},
   "outputs": [
    {
     "data": {
      "text/plain": [
       "tensor([[[ 1.9269,  1.4873],\n",
       "         [ 1.9269,  1.4873],\n",
       "         [ 1.9269,  1.4873]],\n",
       "\n",
       "        [[ 1.9269,  1.4873],\n",
       "         [ 1.9269,  1.4873],\n",
       "         [-0.3925, -1.4036]]], grad_fn=<SliceBackward>)"
      ]
     },
     "execution_count": 26,
     "metadata": {},
     "output_type": "execute_result"
    }
   ],
   "source": [
    "C[X][0:2]"
   ]
  },
  {
   "cell_type": "code",
   "execution_count": 27,
   "id": "4fee6baa",
   "metadata": {},
   "outputs": [
    {
     "data": {
      "text/plain": [
       "torch.Size([32, 3, 2])"
      ]
     },
     "execution_count": 27,
     "metadata": {},
     "output_type": "execute_result"
    }
   ],
   "source": [
    "C[X].shape"
   ]
  },
  {
   "cell_type": "code",
   "execution_count": 28,
   "id": "7c2678da",
   "metadata": {},
   "outputs": [],
   "source": [
    "embeddings = C[X]"
   ]
  },
  {
   "cell_type": "code",
   "execution_count": 38,
   "id": "131d3706",
   "metadata": {},
   "outputs": [],
   "source": [
    "HIDDEN_LAYER_CAPACITY = 100\n",
    "\n",
    "w1_rows = EMBEDDING_DIMENSION * BLOCK_SIZE\n",
    "w1_cols = HIDDEN_LAYER_CAPACITY\n",
    "\n",
    "g = torch.Generator().manual_seed(42)\n",
    "W1 = torch.randn([w1_rows, w1_cols], requires_grad=True, generator=g)"
   ]
  },
  {
   "cell_type": "code",
   "execution_count": 39,
   "id": "dc03c3b2",
   "metadata": {},
   "outputs": [
    {
     "data": {
      "text/plain": [
       "torch.Size([6, 100])"
      ]
     },
     "execution_count": 39,
     "metadata": {},
     "output_type": "execute_result"
    }
   ],
   "source": [
    "W1.shape"
   ]
  },
  {
   "cell_type": "code",
   "execution_count": 40,
   "id": "e7e9c12c",
   "metadata": {},
   "outputs": [
    {
     "data": {
      "text/plain": [
       "torch.Size([32, 6])"
      ]
     },
     "execution_count": 40,
     "metadata": {},
     "output_type": "execute_result"
    }
   ],
   "source": [
    "embeddings.view(-1, EMBEDDING_DIMENSION * BLOCK_SIZE).shape"
   ]
  },
  {
   "cell_type": "code",
   "execution_count": 41,
   "id": "0e0a068d",
   "metadata": {},
   "outputs": [],
   "source": [
    "z1 = embeddings.view(-1, EMBEDDING_DIMENSION * BLOCK_SIZE) @ W1"
   ]
  },
  {
   "cell_type": "code",
   "execution_count": 42,
   "id": "9eaea4a0",
   "metadata": {},
   "outputs": [
    {
     "data": {
      "text/plain": [
       "torch.Size([32, 100])"
      ]
     },
     "execution_count": 42,
     "metadata": {},
     "output_type": "execute_result"
    }
   ],
   "source": [
    "z1.shape"
   ]
  },
  {
   "cell_type": "code",
   "execution_count": 43,
   "id": "c4fd4069",
   "metadata": {},
   "outputs": [],
   "source": [
    "a1 = z1.tanh()"
   ]
  },
  {
   "cell_type": "code",
   "execution_count": 44,
   "id": "8a22800f",
   "metadata": {},
   "outputs": [
    {
     "data": {
      "text/plain": [
       "tensor([[ 0.9998,  0.9999,  0.7375,  ...,  0.5377,  0.9969,  0.9998],\n",
       "        [ 1.0000,  1.0000,  1.0000,  ...,  0.9483,  0.9976,  0.9999],\n",
       "        [ 0.9982,  0.8478, -0.4886,  ...,  0.8920,  0.9896,  0.5183],\n",
       "        ...,\n",
       "        [-0.4413, -0.9998, -0.6653,  ..., -0.3774,  0.6519, -0.3608],\n",
       "        [-0.9910,  0.8109, -0.9979,  ..., -0.3973, -0.3881, -0.2602],\n",
       "        [ 0.9997,  0.9411,  0.9995,  ...,  0.4602,  0.9744,  0.1070]],\n",
       "       grad_fn=<TanhBackward>)"
      ]
     },
     "execution_count": 44,
     "metadata": {},
     "output_type": "execute_result"
    }
   ],
   "source": [
    "a1"
   ]
  },
  {
   "cell_type": "code",
   "execution_count": 45,
   "id": "46c04f59",
   "metadata": {},
   "outputs": [],
   "source": [
    "g = torch.Generator().manual_seed(42)\n",
    "W2 = torch.randn([HIDDEN_LAYER_CAPACITY, 27], requires_grad=True, generator=g)"
   ]
  },
  {
   "cell_type": "code",
   "execution_count": 46,
   "id": "af491085",
   "metadata": {},
   "outputs": [],
   "source": [
    "z2 = a1 @ W2"
   ]
  },
  {
   "cell_type": "code",
   "execution_count": 47,
   "id": "1083a35b",
   "metadata": {},
   "outputs": [
    {
     "data": {
      "text/plain": [
       "torch.Size([32, 27])"
      ]
     },
     "execution_count": 47,
     "metadata": {},
     "output_type": "execute_result"
    }
   ],
   "source": [
    "z2.shape"
   ]
  },
  {
   "cell_type": "code",
   "execution_count": 48,
   "id": "352f2426",
   "metadata": {},
   "outputs": [],
   "source": [
    "loss = F.cross_entropy(z2, target=Y)"
   ]
  },
  {
   "cell_type": "code",
   "execution_count": 49,
   "id": "60e432f3",
   "metadata": {},
   "outputs": [
    {
     "data": {
      "text/plain": [
       "tensor(21.5800, grad_fn=<NllLossBackward>)"
      ]
     },
     "execution_count": 49,
     "metadata": {},
     "output_type": "execute_result"
    }
   ],
   "source": [
    "loss"
   ]
  },
  {
   "cell_type": "code",
   "execution_count": 50,
   "id": "51d9c377",
   "metadata": {},
   "outputs": [],
   "source": [
    "softmax = F.log_softmax(z2, dim=1)"
   ]
  },
  {
   "cell_type": "code",
   "execution_count": 51,
   "id": "de79d8e5",
   "metadata": {},
   "outputs": [
    {
     "data": {
      "text/plain": [
       "tensor(21.5800, grad_fn=<NllLossBackward>)"
      ]
     },
     "execution_count": 51,
     "metadata": {},
     "output_type": "execute_result"
    }
   ],
   "source": [
    "F.nll_loss(softmax, target=Y)"
   ]
  },
  {
   "cell_type": "code",
   "execution_count": 52,
   "id": "db23da40",
   "metadata": {},
   "outputs": [],
   "source": [
    "counts = z2.exp()\n",
    "\n",
    "probs = counts / counts.sum(1, keepdim=True)"
   ]
  },
  {
   "cell_type": "code",
   "execution_count": 53,
   "id": "e4fc6b10",
   "metadata": {},
   "outputs": [
    {
     "data": {
      "text/plain": [
       "tensor(1.0000, grad_fn=<SumBackward0>)"
      ]
     },
     "execution_count": 53,
     "metadata": {},
     "output_type": "execute_result"
    }
   ],
   "source": [
    "probs[0].sum()"
   ]
  },
  {
   "cell_type": "code",
   "execution_count": 54,
   "id": "6a88d228",
   "metadata": {},
   "outputs": [
    {
     "data": {
      "text/plain": [
       "torch.Size([32, 27])"
      ]
     },
     "execution_count": 54,
     "metadata": {},
     "output_type": "execute_result"
    }
   ],
   "source": [
    "probs.shape"
   ]
  },
  {
   "cell_type": "code",
   "execution_count": 55,
   "id": "dede0501",
   "metadata": {},
   "outputs": [
    {
     "data": {
      "text/plain": [
       "tensor(21.5800, grad_fn=<NegBackward>)"
      ]
     },
     "execution_count": 55,
     "metadata": {},
     "output_type": "execute_result"
    }
   ],
   "source": [
    "-probs[range(X.shape[0]), Y].log().mean()"
   ]
  },
  {
   "cell_type": "markdown",
   "id": "c7de298b",
   "metadata": {},
   "source": [
    "### However, we forgot the biasses"
   ]
  },
  {
   "cell_type": "code",
   "execution_count": 72,
   "id": "31672627",
   "metadata": {},
   "outputs": [],
   "source": [
    "EMBEDDING_DIMENSION = 2\n",
    "HIDDEN_LAYER_CAPACITY = 100\n",
    "RAW_INPUT = len(i_to_s)\n",
    "\n",
    "g = torch.Generator().manual_seed(2147483647)\n",
    "\n",
    "C = torch.randn([RAW_INPUT,EMBEDDING_DIMENSION], requires_grad=True, generator=g)\n",
    "\n",
    "w1_rows = EMBEDDING_DIMENSION * BLOCK_SIZE\n",
    "w1_cols = HIDDEN_LAYER_CAPACITY\n",
    "W1 = torch.randn([w1_rows, w1_cols], requires_grad=True, generator=g)\n",
    "b1 = torch.randn([1, w1_cols], requires_grad=True, generator=g)\n",
    "\n",
    "w2_rows = HIDDEN_LAYER_CAPACITY\n",
    "w2_cols = RAW_INPUT\n",
    "W2 = torch.randn([w2_rows, w2_cols], requires_grad=True, generator=g)\n",
    "b2 = torch.randn([1, w2_cols], requires_grad=True, generator=g)\n",
    "\n",
    "parameters = [C, W1, b1, W2, b2]\n",
    "\n",
    "embeddings = C[X]\n",
    "z1 = embeddings.view(-1, EMBEDDING_DIMENSION * BLOCK_SIZE) @ W1 + b1\n",
    "a1 = z1.tanh()\n",
    "z2 = a1 @ W2 + b2\n",
    "\n",
    "loss = F.cross_entropy(z2, target=Y)"
   ]
  },
  {
   "cell_type": "code",
   "execution_count": 73,
   "id": "669c4577",
   "metadata": {},
   "outputs": [
    {
     "data": {
      "text/plain": [
       "tensor(17.7697, grad_fn=<NllLossBackward>)"
      ]
     },
     "execution_count": 73,
     "metadata": {},
     "output_type": "execute_result"
    }
   ],
   "source": [
    "loss"
   ]
  },
  {
   "cell_type": "markdown",
   "id": "d412f672",
   "metadata": {},
   "source": [
    "### Now let's add a gradient descent step"
   ]
  },
  {
   "cell_type": "code",
   "execution_count": 126,
   "id": "bcd1e949",
   "metadata": {},
   "outputs": [],
   "source": [
    "# Hyperparameters\n",
    "EMBEDDING_DIMENSION = 2\n",
    "HIDDEN_LAYER_CAPACITY = 100"
   ]
  },
  {
   "cell_type": "code",
   "execution_count": 127,
   "id": "a92c7c12",
   "metadata": {},
   "outputs": [],
   "source": [
    "RAW_INPUT = len(i_to_s)\n",
    "\n",
    "g = torch.Generator().manual_seed(2147483647)\n",
    "\n",
    "C = torch.randn([RAW_INPUT,EMBEDDING_DIMENSION], requires_grad=True, generator=g)\n",
    "\n",
    "w1_rows = EMBEDDING_DIMENSION * BLOCK_SIZE\n",
    "w1_cols = HIDDEN_LAYER_CAPACITY\n",
    "W1 = torch.randn([w1_rows, w1_cols], requires_grad=True, generator=g)\n",
    "b1 = torch.randn([1, w1_cols], requires_grad=True, generator=g)\n",
    "\n",
    "w2_rows = HIDDEN_LAYER_CAPACITY\n",
    "w2_cols = RAW_INPUT\n",
    "W2 = torch.randn([w2_rows, w2_cols], requires_grad=True, generator=g)\n",
    "b2 = torch.randn([1, w2_cols], requires_grad=True, generator=g)\n",
    "\n",
    "parameters = [C, W1, b1, W2, b2]"
   ]
  },
  {
   "cell_type": "code",
   "execution_count": 134,
   "id": "9ea2d3f1",
   "metadata": {},
   "outputs": [
    {
     "data": {
      "text/plain": [
       "tensor(17.5560, grad_fn=<NllLossBackward>)"
      ]
     },
     "execution_count": 134,
     "metadata": {},
     "output_type": "execute_result"
    }
   ],
   "source": [
    "# Forward pass\n",
    "embeddings = C[X]\n",
    "z1 = embeddings.view(-1, EMBEDDING_DIMENSION * BLOCK_SIZE) @ W1 + b1\n",
    "a1 = z1.tanh()\n",
    "z2 = a1 @ W2 + b2\n",
    "\n",
    "loss = F.cross_entropy(z2, target=Y)\n",
    "\n",
    "\n",
    "learning_rate = 1e-1\n",
    "# Backward pass\n",
    "loss.backward()\n",
    "for pp in parameters:\n",
    "    pp.data += - learning_rate * pp.grad\n",
    "    pp.grad = None\n",
    "loss"
   ]
  },
  {
   "cell_type": "code",
   "execution_count": 135,
   "id": "e66768f5",
   "metadata": {},
   "outputs": [
    {
     "data": {
      "text/plain": [
       "tensor(13.5713, grad_fn=<NllLossBackward>)"
      ]
     },
     "execution_count": 135,
     "metadata": {},
     "output_type": "execute_result"
    }
   ],
   "source": [
    "# Do another forward pass and check if gradient went down:\n",
    "\n",
    "embeddings = C[X]\n",
    "z1 = embeddings.view(-1, EMBEDDING_DIMENSION * BLOCK_SIZE) @ W1 + b1\n",
    "a1 = z1.tanh()\n",
    "z2 = a1 @ W2 + b2\n",
    "\n",
    "loss = F.cross_entropy(z2, target=Y)\n",
    "\n",
    "loss"
   ]
  },
  {
   "cell_type": "markdown",
   "id": "2f7fb131",
   "metadata": {},
   "source": [
    "### Reset and make training loop:"
   ]
  },
  {
   "cell_type": "code",
   "execution_count": 136,
   "id": "e8c66a5e",
   "metadata": {},
   "outputs": [],
   "source": [
    "RAW_INPUT = len(i_to_s)\n",
    "\n",
    "g = torch.Generator().manual_seed(2147483647)\n",
    "\n",
    "C = torch.randn([RAW_INPUT,EMBEDDING_DIMENSION], requires_grad=True, generator=g)\n",
    "\n",
    "w1_rows = EMBEDDING_DIMENSION * BLOCK_SIZE\n",
    "w1_cols = HIDDEN_LAYER_CAPACITY\n",
    "W1 = torch.randn([w1_rows, w1_cols], requires_grad=True, generator=g)\n",
    "b1 = torch.randn([1, w1_cols], requires_grad=True, generator=g)\n",
    "\n",
    "w2_rows = HIDDEN_LAYER_CAPACITY\n",
    "w2_cols = RAW_INPUT\n",
    "W2 = torch.randn([w2_rows, w2_cols], requires_grad=True, generator=g)\n",
    "b2 = torch.randn([1, w2_cols], requires_grad=True, generator=g)\n",
    "\n",
    "parameters = [C, W1, b1, W2, b2]"
   ]
  },
  {
   "cell_type": "code",
   "execution_count": 137,
   "id": "45a7f5a1",
   "metadata": {},
   "outputs": [
    {
     "name": "stdout",
     "output_type": "stream",
     "text": [
      "tensor(17.7697, grad_fn=<NllLossBackward>)\n",
      "tensor(13.6564, grad_fn=<NllLossBackward>)\n",
      "tensor(11.2988, grad_fn=<NllLossBackward>)\n",
      "tensor(9.4525, grad_fn=<NllLossBackward>)\n",
      "tensor(7.9843, grad_fn=<NllLossBackward>)\n",
      "tensor(6.8913, grad_fn=<NllLossBackward>)\n",
      "tensor(6.1000, grad_fn=<NllLossBackward>)\n",
      "tensor(5.4520, grad_fn=<NllLossBackward>)\n",
      "tensor(4.8982, grad_fn=<NllLossBackward>)\n",
      "tensor(4.4147, grad_fn=<NllLossBackward>)\n"
     ]
    }
   ],
   "source": [
    "def forward():\n",
    "    embeddings = C[X]\n",
    "    z1 = embeddings.view(-1, EMBEDDING_DIMENSION * BLOCK_SIZE) @ W1 + b1\n",
    "    a1 = z1.tanh()\n",
    "    z2 = a1 @ W2 + b2\n",
    "    loss = F.cross_entropy(z2, target=Y)\n",
    "    return loss\n",
    "    \n",
    "def backward(loss):\n",
    "    loss.backward()\n",
    "    \n",
    "def step(learning_rate=1e-1):\n",
    "    for pp in parameters:\n",
    "        pp.data += - learning_rate * pp.grad\n",
    "        pp.grad = None\n",
    "\n",
    "for i in range(10):\n",
    "    loss = forward()\n",
    "    print(loss)\n",
    "    backward(loss)\n",
    "    step()"
   ]
  },
  {
   "cell_type": "markdown",
   "id": "1fe4e2e5",
   "metadata": {},
   "source": [
    "### Looks good, let's run on all names"
   ]
  },
  {
   "cell_type": "code",
   "execution_count": 425,
   "id": "4696b352",
   "metadata": {},
   "outputs": [],
   "source": [
    "# Hyperparameters\n",
    "EMBEDDING_DIMENSION = 2\n",
    "HIDDEN_LAYER_CAPACITY = 100\n",
    "BLOCK_SIZE = 3"
   ]
  },
  {
   "cell_type": "code",
   "execution_count": 426,
   "id": "06175b67",
   "metadata": {},
   "outputs": [],
   "source": [
    "X = []\n",
    "Y = []\n",
    "\n",
    "for name in names:\n",
    "    context = '.' * BLOCK_SIZE\n",
    "    for ch in name + '.':\n",
    "        X.append([s_to_i[s] for s in context])\n",
    "        Y.append(s_to_i[ch])\n",
    "        context = context[1:] + ch\n",
    "        \n",
    "X = torch.tensor(X)\n",
    "Y = torch.tensor(Y)"
   ]
  },
  {
   "cell_type": "code",
   "execution_count": 427,
   "id": "b6e91119",
   "metadata": {},
   "outputs": [],
   "source": [
    "RAW_INPUT = len(i_to_s)\n",
    "\n",
    "g = torch.Generator().manual_seed(2147483647)\n",
    "\n",
    "C = torch.randn([RAW_INPUT,EMBEDDING_DIMENSION], requires_grad=True, generator=g)\n",
    "\n",
    "w1_rows = EMBEDDING_DIMENSION * BLOCK_SIZE\n",
    "w1_cols = HIDDEN_LAYER_CAPACITY\n",
    "W1 = torch.randn([w1_rows, w1_cols], requires_grad=True, generator=g)\n",
    "b1 = torch.randn([1, w1_cols], requires_grad=True, generator=g)\n",
    "\n",
    "w2_rows = HIDDEN_LAYER_CAPACITY\n",
    "w2_cols = RAW_INPUT\n",
    "W2 = torch.randn([w2_rows, w2_cols], requires_grad=True, generator=g)\n",
    "b2 = torch.randn([1, w2_cols], requires_grad=True, generator=g)\n",
    "\n",
    "parameters = [C, W1, b1, W2, b2]"
   ]
  },
  {
   "cell_type": "code",
   "execution_count": 428,
   "id": "bf461189",
   "metadata": {},
   "outputs": [
    {
     "name": "stdout",
     "output_type": "stream",
     "text": [
      "19.505855560302734\n",
      "8.328840255737305\n",
      "5.80296516418457\n",
      "4.586923599243164\n",
      "3.927968740463257\n",
      "3.5757853984832764\n",
      "3.356884717941284\n",
      "3.2100067138671875\n",
      "3.1046998500823975\n",
      "3.0238876342773438\n"
     ]
    }
   ],
   "source": [
    "def forward():\n",
    "    embeddings = C[X]\n",
    "    z1 = embeddings.view(-1, EMBEDDING_DIMENSION * BLOCK_SIZE) @ W1 + b1\n",
    "    a1 = z1.tanh()\n",
    "    z2 = a1 @ W2 + b2\n",
    "    loss = F.cross_entropy(z2, target=Y)\n",
    "    return loss\n",
    "    \n",
    "def backward(loss):\n",
    "    loss.backward()\n",
    "    \n",
    "def step(learning_rate=1e-1):\n",
    "    for pp in parameters:\n",
    "        pp.data += - learning_rate * pp.grad\n",
    "        pp.grad = None\n",
    "\n",
    "for i in range(200):\n",
    "    loss = forward()\n",
    "    if i%20 == 0:\n",
    "        print(loss.item())\n",
    "    backward(loss)\n",
    "    step()"
   ]
  },
  {
   "cell_type": "markdown",
   "id": "917fe8ca",
   "metadata": {},
   "source": [
    "### Add minibatches"
   ]
  },
  {
   "cell_type": "code",
   "execution_count": 161,
   "id": "33b879fd",
   "metadata": {},
   "outputs": [],
   "source": [
    "# Hyperparameters\n",
    "EMBEDDING_DIMENSION = 2\n",
    "HIDDEN_LAYER_CAPACITY = 100\n",
    "BLOCK_SIZE = 3\n",
    "BATCH_SIZE=1000"
   ]
  },
  {
   "cell_type": "code",
   "execution_count": null,
   "id": "f54555b4",
   "metadata": {},
   "outputs": [],
   "source": [
    "X = []\n",
    "Y = []\n",
    "\n",
    "for name in names:\n",
    "    context = '.' * BLOCK_SIZE\n",
    "    for ch in name + '.':\n",
    "        X.append([s_to_i[s] for s in context])\n",
    "        Y.append(s_to_i[ch])\n",
    "        context = context[1:] + ch\n",
    "        \n",
    "X = torch.tensor(X)\n",
    "Y = torch.tensor(Y)"
   ]
  },
  {
   "cell_type": "code",
   "execution_count": 176,
   "id": "20de31c6",
   "metadata": {},
   "outputs": [],
   "source": [
    "RAW_INPUT = len(i_to_s)\n",
    "\n",
    "g = torch.Generator().manual_seed(2147483647)\n",
    "\n",
    "C = torch.randn([RAW_INPUT,EMBEDDING_DIMENSION], requires_grad=True, generator=g)\n",
    "\n",
    "w1_rows = EMBEDDING_DIMENSION * BLOCK_SIZE\n",
    "w1_cols = HIDDEN_LAYER_CAPACITY\n",
    "W1 = torch.randn([w1_rows, w1_cols], requires_grad=True, generator=g)\n",
    "b1 = torch.randn([1, w1_cols], requires_grad=True, generator=g)\n",
    "\n",
    "w2_rows = HIDDEN_LAYER_CAPACITY\n",
    "w2_cols = RAW_INPUT\n",
    "W2 = torch.randn([w2_rows, w2_cols], requires_grad=True, generator=g)\n",
    "b2 = torch.randn([1, w2_cols], requires_grad=True, generator=g)\n",
    "\n",
    "parameters = [C, W1, b1, W2, b2]"
   ]
  },
  {
   "cell_type": "code",
   "execution_count": 177,
   "id": "e62f39a4",
   "metadata": {},
   "outputs": [
    {
     "name": "stdout",
     "output_type": "stream",
     "text": [
      "19.74472999572754\n",
      "8.352926254272461\n",
      "5.629281044006348\n",
      "4.737269401550293\n",
      "3.9773926734924316\n",
      "3.4474387168884277\n",
      "3.2276084423065186\n",
      "3.3635058403015137\n",
      "3.1907272338867188\n",
      "3.0709846019744873\n"
     ]
    }
   ],
   "source": [
    "def forward(X_batch, Y_batch):\n",
    "    embeddings = C[X_batch]\n",
    "    z1 = embeddings.view(-1, EMBEDDING_DIMENSION * BLOCK_SIZE) @ W1 + b1\n",
    "    a1 = z1.tanh()\n",
    "    z2 = a1 @ W2 + b2\n",
    "    loss = F.cross_entropy(z2, target=Y_batch)\n",
    "    return loss\n",
    "    \n",
    "def backward(loss):\n",
    "    loss.backward()\n",
    "    \n",
    "def step(learning_rate=1e-1):\n",
    "    for pp in parameters:\n",
    "        pp.data += - learning_rate * pp.grad\n",
    "        pp.grad = None\n",
    "\n",
    "for i in range(200):\n",
    "    batch_indexs = torch.randint(0, X.shape[0], (BATCH_SIZE,))\n",
    "    X_batch = X[batch_indexs]\n",
    "    Y_batch = Y[batch_indexs]\n",
    "    loss = forward(X_batch, Y_batch)\n",
    "    if i%20 == 0:\n",
    "        print(loss.item())\n",
    "    backward(loss)\n",
    "    step()"
   ]
  },
  {
   "cell_type": "markdown",
   "id": "33201114",
   "metadata": {},
   "source": [
    "### Find good learning rate"
   ]
  },
  {
   "cell_type": "code",
   "execution_count": 220,
   "id": "958a5c0e",
   "metadata": {},
   "outputs": [],
   "source": [
    "# Hyperparameters\n",
    "EMBEDDING_DIMENSION = 2\n",
    "HIDDEN_LAYER_CAPACITY = 100\n",
    "BLOCK_SIZE = 3\n",
    "BATCH_SIZE=32"
   ]
  },
  {
   "cell_type": "code",
   "execution_count": 221,
   "id": "1d6d15f3",
   "metadata": {},
   "outputs": [],
   "source": [
    "X = []\n",
    "Y = []\n",
    "\n",
    "for name in names:\n",
    "    context = '.' * BLOCK_SIZE\n",
    "    for ch in name + '.':\n",
    "        X.append([s_to_i[s] for s in context])\n",
    "        Y.append(s_to_i[ch])\n",
    "        context = context[1:] + ch\n",
    "        \n",
    "X = torch.tensor(X)\n",
    "Y = torch.tensor(Y)"
   ]
  },
  {
   "cell_type": "code",
   "execution_count": 222,
   "id": "959beb0f",
   "metadata": {},
   "outputs": [],
   "source": [
    "RAW_INPUT = len(i_to_s)\n",
    "\n",
    "g = torch.Generator().manual_seed(2147483647)\n",
    "\n",
    "C = torch.randn([RAW_INPUT,EMBEDDING_DIMENSION], requires_grad=True, generator=g)\n",
    "\n",
    "w1_rows = EMBEDDING_DIMENSION * BLOCK_SIZE\n",
    "w1_cols = HIDDEN_LAYER_CAPACITY\n",
    "W1 = torch.randn([w1_rows, w1_cols], requires_grad=True, generator=g)\n",
    "b1 = torch.randn([1, w1_cols], requires_grad=True, generator=g)\n",
    "\n",
    "w2_rows = HIDDEN_LAYER_CAPACITY\n",
    "w2_cols = RAW_INPUT\n",
    "W2 = torch.randn([w2_rows, w2_cols], requires_grad=True, generator=g)\n",
    "b2 = torch.randn([1, w2_cols], requires_grad=True, generator=g)\n",
    "\n",
    "parameters = [C, W1, b1, W2, b2]"
   ]
  },
  {
   "cell_type": "code",
   "execution_count": 223,
   "id": "2c6225af",
   "metadata": {},
   "outputs": [
    {
     "data": {
      "text/plain": [
       "0.001"
      ]
     },
     "execution_count": 223,
     "metadata": {},
     "output_type": "execute_result"
    }
   ],
   "source": [
    "1e-3"
   ]
  },
  {
   "cell_type": "code",
   "execution_count": 224,
   "id": "554734b0",
   "metadata": {},
   "outputs": [
    {
     "name": "stdout",
     "output_type": "stream",
     "text": [
      "exponent = -3.0000, lr = 0.0010\n",
      "exponent = -2.6667, lr = 0.0022\n",
      "exponent = -2.3333, lr = 0.0046\n",
      "exponent = -2.0000, lr = 0.0100\n",
      "exponent = -1.6667, lr = 0.0215\n",
      "exponent = -1.3333, lr = 0.0464\n",
      "exponent = -1.0000, lr = 0.1000\n",
      "exponent = -0.6667, lr = 0.2154\n",
      "exponent = -0.3333, lr = 0.4642\n",
      "exponent = 0.0000, lr = 1.0000\n"
     ]
    }
   ],
   "source": [
    "lre = np.linspace(-3, 0, 10)\n",
    "\n",
    "lrs = [10**e for e in lre]\n",
    "\n",
    "for x,y in zip(lre, lrs):\n",
    "    print('exponent = %.4f, lr = %.4f' % (x, y))"
   ]
  },
  {
   "cell_type": "code",
   "execution_count": 225,
   "id": "7257f84b",
   "metadata": {},
   "outputs": [],
   "source": [
    "def forward(X_batch, Y_batch):\n",
    "    embeddings = C[X_batch]\n",
    "    z1 = embeddings.view(-1, EMBEDDING_DIMENSION * BLOCK_SIZE) @ W1 + b1\n",
    "    a1 = z1.tanh()\n",
    "    z2 = a1 @ W2 + b2\n",
    "    loss = F.cross_entropy(z2, target=Y_batch)\n",
    "    return loss\n",
    "    \n",
    "def backward(loss):\n",
    "    loss.backward()\n",
    "    \n",
    "def step(learning_rate=1e-1):\n",
    "    for pp in parameters:\n",
    "        pp.data += - learning_rate * pp.grad\n",
    "        pp.grad = None\n",
    "\n",
    "steps = 1000\n",
    "lre = np.linspace(-3, 0, steps)\n",
    "lrs = [10**e for e in lre]\n",
    "\n",
    "loss_i = []\n",
    "\n",
    "for i in range(steps):\n",
    "    batch_indexs = torch.randint(0, X.shape[0], (BATCH_SIZE,))\n",
    "    X_batch = X[batch_indexs]\n",
    "    Y_batch = Y[batch_indexs]\n",
    "    loss = forward(X_batch, Y_batch)\n",
    "    loss_i.append(loss.item())\n",
    "    backward(loss)\n",
    "    step(lrs[i])"
   ]
  },
  {
   "cell_type": "code",
   "execution_count": 226,
   "id": "2c6fbf4d",
   "metadata": {},
   "outputs": [],
   "source": [
    "import matplotlib.pyplot as plt\n",
    "%matplotlib inline"
   ]
  },
  {
   "cell_type": "code",
   "execution_count": 227,
   "id": "5fc18c41",
   "metadata": {},
   "outputs": [
    {
     "data": {
      "text/plain": [
       "[<matplotlib.lines.Line2D at 0x7f90f3fcff70>]"
      ]
     },
     "execution_count": 227,
     "metadata": {},
     "output_type": "execute_result"
    },
    {
     "data": {
      "image/png": "[encoded data removed]",
      "text/plain": [
       "<Figure size 640x480 with 1 Axes>"
      ]
     },
     "metadata": {},
     "output_type": "display_data"
    }
   ],
   "source": [
    "plt.plot(lrs, loss_i)"
   ]
  },
  {
   "cell_type": "code",
   "execution_count": 228,
   "id": "86aa9884",
   "metadata": {},
   "outputs": [
    {
     "data": {
      "text/plain": [
       "[<matplotlib.lines.Line2D at 0x7f90f87011c0>]"
      ]
     },
     "execution_count": 228,
     "metadata": {},
     "output_type": "execute_result"
    },
    {
     "data": {
      "image/png": "[encoded data removed]",
      "text/plain": [
       "<Figure size 640x480 with 1 Axes>"
      ]
     },
     "metadata": {},
     "output_type": "display_data"
    }
   ],
   "source": [
    "plt.plot(lre, loss_i)"
   ]
  },
  {
   "cell_type": "markdown",
   "id": "92e9a27a",
   "metadata": {},
   "source": [
    "### Train the model with learning rate decay"
   ]
  },
  {
   "cell_type": "code",
   "execution_count": 258,
   "id": "9ba6ee33",
   "metadata": {},
   "outputs": [],
   "source": [
    "# Hyperparameters\n",
    "EMBEDDING_DIMENSION = 2\n",
    "HIDDEN_LAYER_CAPACITY = 100\n",
    "BLOCK_SIZE = 3\n",
    "BATCH_SIZE=32"
   ]
  },
  {
   "cell_type": "code",
   "execution_count": 259,
   "id": "d75ddc2d",
   "metadata": {},
   "outputs": [],
   "source": [
    "X = []\n",
    "Y = []\n",
    "\n",
    "for name in names:\n",
    "    context = '.' * BLOCK_SIZE\n",
    "    for ch in name + '.':\n",
    "        X.append([s_to_i[s] for s in context])\n",
    "        Y.append(s_to_i[ch])\n",
    "        context = context[1:] + ch\n",
    "        \n",
    "X = torch.tensor(X)\n",
    "Y = torch.tensor(Y)"
   ]
  },
  {
   "cell_type": "code",
   "execution_count": 272,
   "id": "a6b84cdc",
   "metadata": {},
   "outputs": [],
   "source": [
    "RAW_INPUT = len(i_to_s)\n",
    "\n",
    "g = torch.Generator().manual_seed(2147483647)\n",
    "\n",
    "C = torch.randn([RAW_INPUT,EMBEDDING_DIMENSION], requires_grad=True, generator=g)\n",
    "\n",
    "w1_rows = EMBEDDING_DIMENSION * BLOCK_SIZE\n",
    "w1_cols = HIDDEN_LAYER_CAPACITY\n",
    "W1 = torch.randn([w1_rows, w1_cols], requires_grad=True, generator=g)\n",
    "b1 = torch.randn([1, w1_cols], requires_grad=True, generator=g)\n",
    "\n",
    "w2_rows = HIDDEN_LAYER_CAPACITY\n",
    "w2_cols = RAW_INPUT\n",
    "W2 = torch.randn([w2_rows, w2_cols], requires_grad=True, generator=g)\n",
    "b2 = torch.randn([1, w2_cols], requires_grad=True, generator=g)\n",
    "\n",
    "parameters = [C, W1, b1, W2, b2]"
   ]
  },
  {
   "cell_type": "code",
   "execution_count": 273,
   "id": "75d48bd0",
   "metadata": {},
   "outputs": [],
   "source": [
    "def forward(X_batch, Y_batch):\n",
    "    embeddings = C[X_batch]\n",
    "    z1 = embeddings.view(-1, EMBEDDING_DIMENSION * BLOCK_SIZE) @ W1 + b1\n",
    "    a1 = z1.tanh()\n",
    "    z2 = a1 @ W2 + b2\n",
    "    loss = F.cross_entropy(z2, target=Y_batch)\n",
    "    return loss\n",
    "    \n",
    "def backward(loss):\n",
    "    loss.backward()\n",
    "    \n",
    "def step(learning_rate):\n",
    "    for pp in parameters:\n",
    "        pp.data += - learning_rate * pp.grad\n",
    "        pp.grad = None\n",
    "\n",
    "steps_arr = [30000, 10000]\n",
    "lrs_arr = [1e-1, 1e-2]\n",
    "\n",
    "for steps, lr in zip(steps_arr, lrs_arr):\n",
    "    for i in range(steps):\n",
    "        batch_indexs = torch.randint(0, X.shape[0], (BATCH_SIZE,))\n",
    "        X_batch = X[batch_indexs]\n",
    "        Y_batch = Y[batch_indexs]\n",
    "        loss = forward(X_batch, Y_batch)\n",
    "        backward(loss)\n",
    "        step(lr)"
   ]
  },
  {
   "cell_type": "code",
   "execution_count": 274,
   "id": "707a9d05",
   "metadata": {},
   "outputs": [
    {
     "data": {
      "text/plain": [
       "tensor(2.3328, grad_fn=<NllLossBackward>)"
      ]
     },
     "execution_count": 274,
     "metadata": {},
     "output_type": "execute_result"
    }
   ],
   "source": [
    "forward(X, Y)"
   ]
  },
  {
   "cell_type": "markdown",
   "id": "eb3d01da",
   "metadata": {},
   "source": [
    "### Train / val / test set"
   ]
  },
  {
   "cell_type": "code",
   "execution_count": 306,
   "id": "13bf0c36",
   "metadata": {},
   "outputs": [],
   "source": [
    "def build_dataset(names):\n",
    "\n",
    "    X = []\n",
    "    Y = []\n",
    "\n",
    "    for name in names:\n",
    "        context = '.' * BLOCK_SIZE\n",
    "        for ch in name + '.':\n",
    "            X.append([s_to_i[s] for s in context])\n",
    "            Y.append(s_to_i[ch])\n",
    "            context = context[1:] + ch\n",
    "\n",
    "    X = torch.tensor(X)\n",
    "    Y = torch.tensor(Y)\n",
    "    \n",
    "    return X, Y\n",
    "\n",
    "\n",
    "train_size = 0.8\n",
    "val_size = 0.1\n",
    "\n",
    "import random\n",
    "random.seed(42)\n",
    "random.shuffle(names)\n",
    "\n",
    "train_names = names[0:int(train_size * len(names))]\n",
    "val_names = names[int(train_size * len(names)): int((train_size + val_size) * len(names))]\n",
    "test_names = names[int((train_size + val_size) * len(names)):]"
   ]
  },
  {
   "cell_type": "code",
   "execution_count": 307,
   "id": "1cae9114",
   "metadata": {},
   "outputs": [
    {
     "data": {
      "text/plain": [
       "(32033, 25626, 3203, 3204)"
      ]
     },
     "execution_count": 307,
     "metadata": {},
     "output_type": "execute_result"
    }
   ],
   "source": [
    "len(names), len(train_names), len(val_names), len(test_names)"
   ]
  },
  {
   "cell_type": "code",
   "execution_count": 308,
   "id": "1808290c",
   "metadata": {},
   "outputs": [],
   "source": [
    "assert len(names) == len(train_names) + len(val_names) + len(test_names)"
   ]
  },
  {
   "cell_type": "code",
   "execution_count": 309,
   "id": "dea88d51",
   "metadata": {},
   "outputs": [],
   "source": [
    "X_train, Y_train = build_dataset(train_names)\n",
    "X_val, Y_val = build_dataset(val_names)\n",
    "X_test, Y_test = build_dataset(test_names)"
   ]
  },
  {
   "cell_type": "code",
   "execution_count": 310,
   "id": "b3374213",
   "metadata": {},
   "outputs": [],
   "source": [
    "# Hyperparameters\n",
    "EMBEDDING_DIMENSION = 2\n",
    "HIDDEN_LAYER_CAPACITY = 100\n",
    "BLOCK_SIZE = 3\n",
    "BATCH_SIZE=32"
   ]
  },
  {
   "cell_type": "code",
   "execution_count": 311,
   "id": "09b67f6f",
   "metadata": {},
   "outputs": [],
   "source": [
    "RAW_INPUT = len(i_to_s)\n",
    "\n",
    "g = torch.Generator().manual_seed(2147483647)\n",
    "\n",
    "C = torch.randn([RAW_INPUT,EMBEDDING_DIMENSION], requires_grad=True, generator=g)\n",
    "\n",
    "w1_rows = EMBEDDING_DIMENSION * BLOCK_SIZE\n",
    "w1_cols = HIDDEN_LAYER_CAPACITY\n",
    "W1 = torch.randn([w1_rows, w1_cols], requires_grad=True, generator=g)\n",
    "b1 = torch.randn([1, w1_cols], requires_grad=True, generator=g)\n",
    "\n",
    "w2_rows = HIDDEN_LAYER_CAPACITY\n",
    "w2_cols = RAW_INPUT\n",
    "W2 = torch.randn([w2_rows, w2_cols], requires_grad=True, generator=g)\n",
    "b2 = torch.randn([1, w2_cols], requires_grad=True, generator=g)\n",
    "\n",
    "parameters = [C, W1, b1, W2, b2]"
   ]
  },
  {
   "cell_type": "code",
   "execution_count": 312,
   "id": "d3a26ee9",
   "metadata": {},
   "outputs": [],
   "source": [
    "def forward(X_batch, Y_batch):\n",
    "    embeddings = C[X_batch]\n",
    "    z1 = embeddings.view(-1, EMBEDDING_DIMENSION * BLOCK_SIZE) @ W1 + b1\n",
    "    a1 = z1.tanh()\n",
    "    z2 = a1 @ W2 + b2\n",
    "    loss = F.cross_entropy(z2, target=Y_batch)\n",
    "    return loss\n",
    "    \n",
    "def backward(loss):\n",
    "    for pp in parameters:\n",
    "        pp.grad = None\n",
    "    loss.backward()\n",
    "    \n",
    "def step(learning_rate):\n",
    "    for pp in parameters:\n",
    "        pp.data += - learning_rate * pp.grad\n",
    "\n",
    "steps_arr = [30000, 10000]\n",
    "lrs_arr = [1e-1, 1e-2]\n",
    "\n",
    "for steps, lr in zip(steps_arr, lrs_arr):\n",
    "    for i in range(steps):\n",
    "        batch_indexs = torch.randint(0, X_train.shape[0], (BATCH_SIZE,))\n",
    "        X_batch = X_train[batch_indexs]\n",
    "        Y_batch = Y_train[batch_indexs]\n",
    "        loss = forward(X_batch, Y_batch)\n",
    "        backward(loss)\n",
    "        step(lr)"
   ]
  },
  {
   "cell_type": "code",
   "execution_count": 313,
   "id": "a4140813",
   "metadata": {},
   "outputs": [
    {
     "data": {
      "text/plain": [
       "tensor(2.3337, grad_fn=<NllLossBackward>)"
      ]
     },
     "execution_count": 313,
     "metadata": {},
     "output_type": "execute_result"
    }
   ],
   "source": [
    "forward(X_train, Y_train)"
   ]
  },
  {
   "cell_type": "code",
   "execution_count": 314,
   "id": "4aad778c",
   "metadata": {},
   "outputs": [
    {
     "data": {
      "text/plain": [
       "tensor(2.3314, grad_fn=<NllLossBackward>)"
      ]
     },
     "execution_count": 314,
     "metadata": {},
     "output_type": "execute_result"
    }
   ],
   "source": [
    "forward(X_val, Y_val)"
   ]
  },
  {
   "cell_type": "markdown",
   "id": "eb5a8b1a",
   "metadata": {},
   "source": [
    "### Experiment with larger hidden layer size"
   ]
  },
  {
   "cell_type": "code",
   "execution_count": 316,
   "id": "c6ce76a6",
   "metadata": {},
   "outputs": [],
   "source": [
    "# Hyperparameters\n",
    "EMBEDDING_DIMENSION = 2\n",
    "HIDDEN_LAYER_CAPACITY = 300\n",
    "BLOCK_SIZE = 3\n",
    "BATCH_SIZE=32"
   ]
  },
  {
   "cell_type": "code",
   "execution_count": 325,
   "id": "1b508f4f",
   "metadata": {},
   "outputs": [],
   "source": [
    "RAW_INPUT = len(i_to_s)\n",
    "\n",
    "g = torch.Generator().manual_seed(2147483647)\n",
    "\n",
    "C = torch.randn([RAW_INPUT,EMBEDDING_DIMENSION], requires_grad=True, generator=g)\n",
    "\n",
    "w1_rows = EMBEDDING_DIMENSION * BLOCK_SIZE\n",
    "w1_cols = HIDDEN_LAYER_CAPACITY\n",
    "W1 = torch.randn([w1_rows, w1_cols], requires_grad=True, generator=g)\n",
    "b1 = torch.randn([1, w1_cols], requires_grad=True, generator=g)\n",
    "\n",
    "w2_rows = HIDDEN_LAYER_CAPACITY\n",
    "w2_cols = RAW_INPUT\n",
    "W2 = torch.randn([w2_rows, w2_cols], requires_grad=True, generator=g)\n",
    "b2 = torch.randn([1, w2_cols], requires_grad=True, generator=g)\n",
    "\n",
    "parameters = [C, W1, b1, W2, b2]"
   ]
  },
  {
   "cell_type": "code",
   "execution_count": 326,
   "id": "1da173b2",
   "metadata": {},
   "outputs": [],
   "source": [
    "def forward(X_batch, Y_batch):\n",
    "    embeddings = C[X_batch]\n",
    "    z1 = embeddings.view(-1, EMBEDDING_DIMENSION * BLOCK_SIZE) @ W1 + b1\n",
    "    a1 = z1.tanh()\n",
    "    z2 = a1 @ W2 + b2\n",
    "    loss = F.cross_entropy(z2, target=Y_batch)\n",
    "    return loss\n",
    "    \n",
    "def backward(loss):\n",
    "    for pp in parameters:\n",
    "        pp.grad = None\n",
    "    loss.backward()\n",
    "    \n",
    "def step(learning_rate):\n",
    "    for pp in parameters:\n",
    "        pp.data += - learning_rate * pp.grad\n",
    "\n",
    "steps_arr = [90000, 60000]\n",
    "lrs_arr = [1e-1, 1e-2]\n",
    "\n",
    "for steps, lr in zip(steps_arr, lrs_arr):\n",
    "    for i in range(steps):\n",
    "        batch_indexs = torch.randint(0, X_train.shape[0], (BATCH_SIZE,))\n",
    "        X_batch = X_train[batch_indexs]\n",
    "        Y_batch = Y_train[batch_indexs]\n",
    "        loss = forward(X_batch, Y_batch)\n",
    "        backward(loss)\n",
    "        step(lr)"
   ]
  },
  {
   "cell_type": "code",
   "execution_count": 327,
   "id": "21e6487c",
   "metadata": {},
   "outputs": [
    {
     "data": {
      "text/plain": [
       "tensor(2.2290, grad_fn=<NllLossBackward>)"
      ]
     },
     "execution_count": 327,
     "metadata": {},
     "output_type": "execute_result"
    }
   ],
   "source": [
    "forward(X_train, Y_train)"
   ]
  },
  {
   "cell_type": "code",
   "execution_count": 328,
   "id": "534bee2c",
   "metadata": {},
   "outputs": [
    {
     "data": {
      "text/plain": [
       "tensor(2.2384, grad_fn=<NllLossBackward>)"
      ]
     },
     "execution_count": 328,
     "metadata": {},
     "output_type": "execute_result"
    }
   ],
   "source": [
    "forward(X_val, Y_val)"
   ]
  },
  {
   "cell_type": "markdown",
   "id": "2b40ec9b",
   "metadata": {},
   "source": [
    "### Visualize Embeddings"
   ]
  },
  {
   "cell_type": "code",
   "execution_count": 335,
   "id": "a48b293e",
   "metadata": {},
   "outputs": [
    {
     "data": {
      "text/plain": [
       "tensor([[ 0.4623, -0.1752],\n",
       "        [-0.0218, -0.3549],\n",
       "        [ 0.4278,  0.7490],\n",
       "        [ 0.2933,  0.3108],\n",
       "        [ 0.0432,  0.3645],\n",
       "        [-0.3933, -0.5042],\n",
       "        [ 0.2373,  0.6793],\n",
       "        [ 0.3319,  0.9517],\n",
       "        [-0.1584,  0.2209],\n",
       "        [-0.7492, -0.2782],\n",
       "        [-0.2175,  0.4480],\n",
       "        [ 0.0875,  0.3474],\n",
       "        [-0.3201,  0.9688],\n",
       "        [-0.0256,  0.5800],\n",
       "        [-0.5859,  0.2291],\n",
       "        [-0.1509, -0.6513],\n",
       "        [ 0.3412,  0.4137],\n",
       "        [-1.4245,  0.4465],\n",
       "        [-0.4368,  0.4975],\n",
       "        [ 0.0666,  0.1633],\n",
       "        [ 0.1442,  0.2099],\n",
       "        [ 0.5272,  1.5231],\n",
       "        [ 0.0464,  0.7406],\n",
       "        [-0.2902,  0.3068],\n",
       "        [-0.1150,  0.1304],\n",
       "        [-1.1420, -0.0895],\n",
       "        [-0.0966,  0.3462]], requires_grad=True)"
      ]
     },
     "execution_count": 335,
     "metadata": {},
     "output_type": "execute_result"
    }
   ],
   "source": [
    "C"
   ]
  },
  {
   "cell_type": "code",
   "execution_count": 350,
   "id": "23565884",
   "metadata": {},
   "outputs": [
    {
     "data": {
      "text/plain": [
       "tensor(-0.0218, grad_fn=<SelectBackward>)"
      ]
     },
     "execution_count": 350,
     "metadata": {},
     "output_type": "execute_result"
    }
   ],
   "source": [
    "C[1,0]"
   ]
  },
  {
   "cell_type": "code",
   "execution_count": 357,
   "id": "e76c71f1",
   "metadata": {},
   "outputs": [
    {
     "data": {
      "image/png": "[encoded data removed]",
      "text/plain": [
       "<Figure size 640x480 with 1 Axes>"
      ]
     },
     "metadata": {},
     "output_type": "display_data"
    }
   ],
   "source": [
    "plt.scatter(C[:,0].data, C[:,1].data, s=200)\n",
    "for i in range(C.shape[0]):\n",
    "    plt.text(C[i,0].data, C[i,1].data, i_to_s[i], c='white', ha='center', va='center')\n",
    "plt.grid('minor')"
   ]
  },
  {
   "cell_type": "markdown",
   "id": "d096df11",
   "metadata": {},
   "source": [
    "### Try out larger embedding size"
   ]
  },
  {
   "cell_type": "code",
   "execution_count": 358,
   "id": "b11e73f9",
   "metadata": {},
   "outputs": [],
   "source": [
    "# Hyperparameters\n",
    "EMBEDDING_DIMENSION = 10\n",
    "HIDDEN_LAYER_CAPACITY = 300\n",
    "BLOCK_SIZE = 3\n",
    "BATCH_SIZE=32"
   ]
  },
  {
   "cell_type": "code",
   "execution_count": 359,
   "id": "3695b64b",
   "metadata": {},
   "outputs": [],
   "source": [
    "RAW_INPUT = len(i_to_s)\n",
    "\n",
    "g = torch.Generator().manual_seed(2147483647)\n",
    "\n",
    "C = torch.randn([RAW_INPUT,EMBEDDING_DIMENSION], requires_grad=True, generator=g)\n",
    "\n",
    "w1_rows = EMBEDDING_DIMENSION * BLOCK_SIZE\n",
    "w1_cols = HIDDEN_LAYER_CAPACITY\n",
    "W1 = torch.randn([w1_rows, w1_cols], requires_grad=True, generator=g)\n",
    "b1 = torch.randn([1, w1_cols], requires_grad=True, generator=g)\n",
    "\n",
    "w2_rows = HIDDEN_LAYER_CAPACITY\n",
    "w2_cols = RAW_INPUT\n",
    "W2 = torch.randn([w2_rows, w2_cols], requires_grad=True, generator=g)\n",
    "b2 = torch.randn([1, w2_cols], requires_grad=True, generator=g)\n",
    "\n",
    "parameters = [C, W1, b1, W2, b2]"
   ]
  },
  {
   "cell_type": "code",
   "execution_count": 360,
   "id": "c8931102",
   "metadata": {},
   "outputs": [],
   "source": [
    "def forward(X_batch, Y_batch):\n",
    "    embeddings = C[X_batch]\n",
    "    z1 = embeddings.view(-1, EMBEDDING_DIMENSION * BLOCK_SIZE) @ W1 + b1\n",
    "    a1 = z1.tanh()\n",
    "    z2 = a1 @ W2 + b2\n",
    "    loss = F.cross_entropy(z2, target=Y_batch)\n",
    "    return loss\n",
    "    \n",
    "def backward(loss):\n",
    "    for pp in parameters:\n",
    "        pp.grad = None\n",
    "    loss.backward()\n",
    "    \n",
    "def step(learning_rate):\n",
    "    for pp in parameters:\n",
    "        pp.data += - learning_rate * pp.grad\n",
    "\n",
    "steps_arr = [90000, 60000]\n",
    "lrs_arr = [1e-1, 1e-2]\n",
    "\n",
    "for steps, lr in zip(steps_arr, lrs_arr):\n",
    "    for i in range(steps):\n",
    "        batch_indexs = torch.randint(0, X_train.shape[0], (BATCH_SIZE,))\n",
    "        X_batch = X_train[batch_indexs]\n",
    "        Y_batch = Y_train[batch_indexs]\n",
    "        loss = forward(X_batch, Y_batch)\n",
    "        backward(loss)\n",
    "        step(lr)"
   ]
  },
  {
   "cell_type": "code",
   "execution_count": 361,
   "id": "854fb477",
   "metadata": {},
   "outputs": [
    {
     "data": {
      "text/plain": [
       "tensor(2.1367, grad_fn=<NllLossBackward>)"
      ]
     },
     "execution_count": 361,
     "metadata": {},
     "output_type": "execute_result"
    }
   ],
   "source": [
    "forward(X_train, Y_train)"
   ]
  },
  {
   "cell_type": "code",
   "execution_count": 362,
   "id": "6fe6ec5d",
   "metadata": {},
   "outputs": [
    {
     "data": {
      "text/plain": [
       "tensor(2.1734, grad_fn=<NllLossBackward>)"
      ]
     },
     "execution_count": 362,
     "metadata": {},
     "output_type": "execute_result"
    }
   ],
   "source": [
    "forward(X_val, Y_val)"
   ]
  },
  {
   "cell_type": "markdown",
   "id": "433a9f3d",
   "metadata": {},
   "source": [
    "### Sampling from the model"
   ]
  },
  {
   "cell_type": "code",
   "execution_count": 400,
   "id": "147f7e38",
   "metadata": {},
   "outputs": [
    {
     "name": "stdout",
     "output_type": "stream",
     "text": [
      "jamea.\n",
      "utzamellia.\n",
      "makialayn.\n",
      "yuma.\n",
      "mil.\n",
      "kiar.\n",
      "bri.\n",
      "krindur.\n",
      "ajbera.\n",
      "greque.\n",
      "daiah.\n",
      "tyn.\n",
      "jery.\n",
      "leightto.\n",
      "lamaikladaliyah.\n",
      "relle.\n",
      "yea.\n",
      "dylee.\n",
      "biam.\n",
      "hasymer.\n"
     ]
    }
   ],
   "source": [
    "g = torch.Generator().manual_seed(2147483647 + 10)\n",
    "\n",
    "\n",
    "for _ in range(20):\n",
    "    out = []\n",
    "    context = [0] * BLOCK_SIZE\n",
    "    while True:\n",
    "        embeddings = C[torch.tensor(context)]\n",
    "        z1 = embeddings.view(-1, EMBEDDING_DIMENSION * BLOCK_SIZE) @ W1 + b1\n",
    "        a1 = z1.tanh()\n",
    "        z2 = a1 @ W2 + b2\n",
    "        probs = F.softmax(z2, dim=1)\n",
    "        ix = torch.multinomial(probs, num_samples=1, generator=g).item()\n",
    "        context = context[1:] + [ix]\n",
    "        out.append(ix)\n",
    "        if ix == 0:\n",
    "            break\n",
    "    print(''.join([i_to_s[i] for i in out]))"
   ]
  },
  {
   "cell_type": "markdown",
   "id": "ae066d4e",
   "metadata": {},
   "source": [
    "## larger blocksize"
   ]
  },
  {
   "cell_type": "code",
   "execution_count": 410,
   "id": "d11d66f7",
   "metadata": {},
   "outputs": [],
   "source": [
    "# Hyperparameters\n",
    "EMBEDDING_DIMENSION = 5\n",
    "HIDDEN_LAYER_CAPACITY = 200\n",
    "BLOCK_SIZE = 5\n",
    "BATCH_SIZE = 1000"
   ]
  },
  {
   "cell_type": "code",
   "execution_count": 415,
   "id": "846222a8",
   "metadata": {},
   "outputs": [],
   "source": [
    "def build_dataset(names):\n",
    "\n",
    "    X = []\n",
    "    Y = []\n",
    "\n",
    "    for name in names:\n",
    "        context = '.' * BLOCK_SIZE\n",
    "        for ch in name + '.':\n",
    "            X.append([s_to_i[s] for s in context])\n",
    "            Y.append(s_to_i[ch])\n",
    "            context = context[1:] + ch\n",
    "\n",
    "    X = torch.tensor(X)\n",
    "    Y = torch.tensor(Y)\n",
    "    \n",
    "    return X, Y\n",
    "\n",
    "\n",
    "train_size = 0.8\n",
    "val_size = 0.1\n",
    "\n",
    "import random\n",
    "random.seed(42)\n",
    "random.shuffle(names)\n",
    "\n",
    "train_names = names[0:int(train_size * len(names))]\n",
    "val_names = names[int(train_size * len(names)): int((train_size + val_size) * len(names))]\n",
    "test_names = names[int((train_size + val_size) * len(names)):]\n",
    "\n",
    "X_train, Y_train = build_dataset(train_names)\n",
    "X_val, Y_val = build_dataset(val_names)\n",
    "X_test, Y_test = build_dataset(test_names)"
   ]
  },
  {
   "cell_type": "code",
   "execution_count": 416,
   "id": "2e0508e6",
   "metadata": {},
   "outputs": [],
   "source": [
    "RAW_INPUT = len(i_to_s)\n",
    "\n",
    "g = torch.Generator().manual_seed(2147483647)\n",
    "\n",
    "C = torch.randn([RAW_INPUT,EMBEDDING_DIMENSION], requires_grad=True, generator=g)\n",
    "\n",
    "w1_rows = EMBEDDING_DIMENSION * BLOCK_SIZE\n",
    "w1_cols = HIDDEN_LAYER_CAPACITY\n",
    "W1 = torch.randn([w1_rows, w1_cols], requires_grad=True, generator=g)\n",
    "b1 = torch.randn([1, w1_cols], requires_grad=True, generator=g)\n",
    "\n",
    "w2_rows = HIDDEN_LAYER_CAPACITY\n",
    "w2_cols = RAW_INPUT\n",
    "W2 = torch.randn([w2_rows, w2_cols], requires_grad=True, generator=g)\n",
    "b2 = torch.randn([1, w2_cols], requires_grad=True, generator=g)\n",
    "\n",
    "parameters = [C, W1, b1, W2, b2]"
   ]
  },
  {
   "cell_type": "code",
   "execution_count": 417,
   "id": "43040b06",
   "metadata": {},
   "outputs": [],
   "source": [
    "def forward(X_batch, Y_batch):\n",
    "    embeddings = C[X_batch]\n",
    "    z1 = embeddings.view(-1, EMBEDDING_DIMENSION * BLOCK_SIZE) @ W1 + b1\n",
    "    a1 = z1.tanh()\n",
    "    z2 = a1 @ W2 + b2\n",
    "    loss = F.cross_entropy(z2, target=Y_batch)\n",
    "    return loss\n",
    "    \n",
    "def backward(loss):\n",
    "    for pp in parameters:\n",
    "        pp.grad = None\n",
    "    loss.backward()\n",
    "    \n",
    "def step(learning_rate):\n",
    "    for pp in parameters:\n",
    "        pp.data += - learning_rate * pp.grad\n",
    "\n",
    "steps_arr = [90000, 60000]\n",
    "lrs_arr = [1e-1, 1e-2]\n",
    "\n",
    "for steps, lr in zip(steps_arr, lrs_arr):\n",
    "    for i in range(steps):\n",
    "        batch_indexs = torch.randint(0, X_train.shape[0], (BATCH_SIZE,))\n",
    "        X_batch = X_train[batch_indexs]\n",
    "        Y_batch = Y_train[batch_indexs]\n",
    "        loss = forward(X_batch, Y_batch)\n",
    "        backward(loss)\n",
    "        step(lr)"
   ]
  },
  {
   "cell_type": "code",
   "execution_count": 418,
   "id": "08f5b213",
   "metadata": {},
   "outputs": [
    {
     "data": {
      "text/plain": [
       "tensor(2.1734, grad_fn=<NllLossBackward>)"
      ]
     },
     "execution_count": 418,
     "metadata": {},
     "output_type": "execute_result"
    }
   ],
   "source": [
    "forward(X_train, Y_train)"
   ]
  },
  {
   "cell_type": "code",
   "execution_count": 419,
   "id": "ecce9ec6",
   "metadata": {},
   "outputs": [
    {
     "data": {
      "text/plain": [
       "tensor(2.1870, grad_fn=<NllLossBackward>)"
      ]
     },
     "execution_count": 419,
     "metadata": {},
     "output_type": "execute_result"
    }
   ],
   "source": [
    "forward(X_val, Y_val)"
   ]
  },
  {
   "cell_type": "code",
   "execution_count": 420,
   "id": "8aef38a8",
   "metadata": {},
   "outputs": [
    {
     "name": "stdout",
     "output_type": "stream",
     "text": [
      "jamaa.\n",
      "utkar.\n",
      "alia.\n",
      "makial.\n",
      "radyn.\n",
      "zamil.\n",
      "kirrie.\n",
      "dillind.\n",
      "ganin.\n",
      "catri.\n",
      "queth.\n",
      "iaili.\n",
      "parelyn.\n",
      "laevito.\n",
      "lamaika.\n",
      "zaleyland.\n",
      "rauny.\n",
      "abdylin.\n",
      "bivmah.\n",
      "mymor.\n"
     ]
    }
   ],
   "source": [
    "g = torch.Generator().manual_seed(2147483647 + 10)\n",
    "\n",
    "\n",
    "for _ in range(20):\n",
    "    out = []\n",
    "    context = [0] * BLOCK_SIZE\n",
    "    while True:\n",
    "        embeddings = C[torch.tensor(context)]\n",
    "        z1 = embeddings.view(-1, EMBEDDING_DIMENSION * BLOCK_SIZE) @ W1 + b1\n",
    "        a1 = z1.tanh()\n",
    "        z2 = a1 @ W2 + b2\n",
    "        probs = F.softmax(z2, dim=1)\n",
    "        ix = torch.multinomial(probs, num_samples=1, generator=g).item()\n",
    "        context = context[1:] + [ix]\n",
    "        out.append(ix)\n",
    "        if ix == 0:\n",
    "            break\n",
    "    print(''.join([i_to_s[i] for i in out]))"
   ]
  },
  {
   "cell_type": "code",
   "execution_count": null,
   "id": "6d30e364",
   "metadata": {},
   "outputs": [],
   "source": []
  }
 ],
 "metadata": {
  "kernelspec": {
   "display_name": "Python 3",
   "language": "python",
   "name": "python3"
  },
  "language_info": {
   "codemirror_mode": {
    "name": "ipython",
    "version": 3
   },
   "file_extension": ".py",
   "mimetype": "text/x-python",
   "name": "python",
   "nbconvert_exporter": "python",
   "pygments_lexer": "ipython3",
   "version": "3.8.8"
  }
 },
 "nbformat": 4,
 "nbformat_minor": 5
}
